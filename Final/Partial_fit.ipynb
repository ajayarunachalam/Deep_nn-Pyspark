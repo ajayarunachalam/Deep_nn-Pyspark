{
 "cells": [
  {
   "cell_type": "code",
   "execution_count": 1,
   "metadata": {},
   "outputs": [],
   "source": [
    "import sqlite3\n",
    "import pandas as pd\n",
    "from sklearn.multiclass import OneVsRestClassifier\n",
    "from sklearn.svm import SVC\n",
    "from sklearn.linear_model import LogisticRegression\n",
    "from sklearn.neighbors import KNeighborsClassifier\n",
    "\n",
    "from sklearn.model_selection import train_test_split\n",
    "from sklearn.preprocessing import StandardScaler\n",
    "from tqdm import tqdm\n",
    "import numpy as np\n",
    "from sklearn import metrics\n",
    "\n",
    "import warnings\n",
    "warnings.filterwarnings(\"ignore\")\n",
    "\n",
    "import pickle"
   ]
  },
  {
   "cell_type": "code",
   "execution_count": 2,
   "metadata": {},
   "outputs": [],
   "source": [
    "con = sqlite3.connect(r\"C:\\Users\\reekithak\\Downloads\\drugs.db\")"
   ]
  },
  {
   "cell_type": "code",
   "execution_count": 3,
   "metadata": {},
   "outputs": [],
   "source": [
    "df = pd.read_sql(\"SELECT * from train_set4\",con)"
   ]
  },
  {
   "cell_type": "code",
   "execution_count": 4,
   "metadata": {},
   "outputs": [
    {
     "data": {
      "text/html": [
       "<div>\n",
       "<style scoped>\n",
       "    .dataframe tbody tr th:only-of-type {\n",
       "        vertical-align: middle;\n",
       "    }\n",
       "\n",
       "    .dataframe tbody tr th {\n",
       "        vertical-align: top;\n",
       "    }\n",
       "\n",
       "    .dataframe thead th {\n",
       "        text-align: right;\n",
       "    }\n",
       "</style>\n",
       "<table border=\"1\" class=\"dataframe\">\n",
       "  <thead>\n",
       "    <tr style=\"text-align: right;\">\n",
       "      <th></th>\n",
       "      <th>cid</th>\n",
       "      <th>emb0</th>\n",
       "      <th>emb1</th>\n",
       "      <th>emb2</th>\n",
       "      <th>emb3</th>\n",
       "      <th>emb4</th>\n",
       "      <th>emb5</th>\n",
       "      <th>emb6</th>\n",
       "      <th>emb7</th>\n",
       "      <th>emb8</th>\n",
       "      <th>...</th>\n",
       "      <th>emb23</th>\n",
       "      <th>emb24</th>\n",
       "      <th>emb25</th>\n",
       "      <th>emb26</th>\n",
       "      <th>emb27</th>\n",
       "      <th>emb28</th>\n",
       "      <th>emb29</th>\n",
       "      <th>emb30</th>\n",
       "      <th>emb31</th>\n",
       "      <th>target</th>\n",
       "    </tr>\n",
       "  </thead>\n",
       "  <tbody>\n",
       "    <tr>\n",
       "      <th>0</th>\n",
       "      <td>3081361</td>\n",
       "      <td>3.717626</td>\n",
       "      <td>0.639790</td>\n",
       "      <td>1.385805</td>\n",
       "      <td>-3.248077</td>\n",
       "      <td>1.800350</td>\n",
       "      <td>-8.567437</td>\n",
       "      <td>11.963310</td>\n",
       "      <td>-7.790736</td>\n",
       "      <td>-4.454160</td>\n",
       "      <td>...</td>\n",
       "      <td>-4.025013</td>\n",
       "      <td>10.429837</td>\n",
       "      <td>-7.283005</td>\n",
       "      <td>-1.466492</td>\n",
       "      <td>0.953156</td>\n",
       "      <td>-4.969905</td>\n",
       "      <td>-7.563207</td>\n",
       "      <td>-6.804394</td>\n",
       "      <td>-1.095591</td>\n",
       "      <td>1D4H,1FLT,1Y6A,1EVT,1IVO,1Y6A,1FLT,1JU5,2XB7,2...</td>\n",
       "    </tr>\n",
       "    <tr>\n",
       "      <th>1</th>\n",
       "      <td>5327236</td>\n",
       "      <td>-0.372198</td>\n",
       "      <td>0.345462</td>\n",
       "      <td>-0.447692</td>\n",
       "      <td>0.762168</td>\n",
       "      <td>-1.128296</td>\n",
       "      <td>1.083966</td>\n",
       "      <td>-0.227938</td>\n",
       "      <td>-0.992710</td>\n",
       "      <td>1.245753</td>\n",
       "      <td>...</td>\n",
       "      <td>0.574602</td>\n",
       "      <td>1.091617</td>\n",
       "      <td>1.533445</td>\n",
       "      <td>0.424946</td>\n",
       "      <td>0.171480</td>\n",
       "      <td>-0.086621</td>\n",
       "      <td>-0.119564</td>\n",
       "      <td>-0.742002</td>\n",
       "      <td>-0.368440</td>\n",
       "      <td>1D4H,1D4K</td>\n",
       "    </tr>\n",
       "    <tr>\n",
       "      <th>2</th>\n",
       "      <td>5327235</td>\n",
       "      <td>-0.376090</td>\n",
       "      <td>0.413805</td>\n",
       "      <td>-0.163864</td>\n",
       "      <td>0.052044</td>\n",
       "      <td>-0.731339</td>\n",
       "      <td>0.850873</td>\n",
       "      <td>-0.480098</td>\n",
       "      <td>-0.923235</td>\n",
       "      <td>1.109870</td>\n",
       "      <td>...</td>\n",
       "      <td>0.447901</td>\n",
       "      <td>0.508694</td>\n",
       "      <td>1.325473</td>\n",
       "      <td>0.441002</td>\n",
       "      <td>0.283106</td>\n",
       "      <td>0.102159</td>\n",
       "      <td>-0.084240</td>\n",
       "      <td>-0.801526</td>\n",
       "      <td>-0.105570</td>\n",
       "      <td>1D4H,1D4K</td>\n",
       "    </tr>\n",
       "    <tr>\n",
       "      <th>3</th>\n",
       "      <td>5327234</td>\n",
       "      <td>-0.301883</td>\n",
       "      <td>0.371007</td>\n",
       "      <td>-0.358294</td>\n",
       "      <td>0.850007</td>\n",
       "      <td>-1.020490</td>\n",
       "      <td>0.863070</td>\n",
       "      <td>0.038748</td>\n",
       "      <td>-1.042293</td>\n",
       "      <td>0.331696</td>\n",
       "      <td>...</td>\n",
       "      <td>0.405777</td>\n",
       "      <td>0.951995</td>\n",
       "      <td>1.287835</td>\n",
       "      <td>0.329399</td>\n",
       "      <td>0.195070</td>\n",
       "      <td>-0.966746</td>\n",
       "      <td>0.120898</td>\n",
       "      <td>-0.616233</td>\n",
       "      <td>-0.832002</td>\n",
       "      <td>1D4H</td>\n",
       "    </tr>\n",
       "    <tr>\n",
       "      <th>4</th>\n",
       "      <td>3009319</td>\n",
       "      <td>-0.295947</td>\n",
       "      <td>0.277502</td>\n",
       "      <td>-0.462155</td>\n",
       "      <td>0.739710</td>\n",
       "      <td>-0.747083</td>\n",
       "      <td>1.014934</td>\n",
       "      <td>-0.141394</td>\n",
       "      <td>-1.019647</td>\n",
       "      <td>1.031712</td>\n",
       "      <td>...</td>\n",
       "      <td>0.431880</td>\n",
       "      <td>0.979879</td>\n",
       "      <td>1.497206</td>\n",
       "      <td>0.579064</td>\n",
       "      <td>0.091082</td>\n",
       "      <td>-0.131126</td>\n",
       "      <td>-0.098484</td>\n",
       "      <td>-0.374896</td>\n",
       "      <td>-0.564743</td>\n",
       "      <td>1D4H,1D4K</td>\n",
       "    </tr>\n",
       "    <tr>\n",
       "      <th>...</th>\n",
       "      <td>...</td>\n",
       "      <td>...</td>\n",
       "      <td>...</td>\n",
       "      <td>...</td>\n",
       "      <td>...</td>\n",
       "      <td>...</td>\n",
       "      <td>...</td>\n",
       "      <td>...</td>\n",
       "      <td>...</td>\n",
       "      <td>...</td>\n",
       "      <td>...</td>\n",
       "      <td>...</td>\n",
       "      <td>...</td>\n",
       "      <td>...</td>\n",
       "      <td>...</td>\n",
       "      <td>...</td>\n",
       "      <td>...</td>\n",
       "      <td>...</td>\n",
       "      <td>...</td>\n",
       "      <td>...</td>\n",
       "      <td>...</td>\n",
       "    </tr>\n",
       "    <tr>\n",
       "      <th>476479</th>\n",
       "      <td>76329005</td>\n",
       "      <td>1.166424</td>\n",
       "      <td>1.527692</td>\n",
       "      <td>-0.350568</td>\n",
       "      <td>-0.489907</td>\n",
       "      <td>-2.186424</td>\n",
       "      <td>2.682783</td>\n",
       "      <td>-1.475247</td>\n",
       "      <td>1.757537</td>\n",
       "      <td>-1.920095</td>\n",
       "      <td>...</td>\n",
       "      <td>-1.236230</td>\n",
       "      <td>1.318571</td>\n",
       "      <td>0.563403</td>\n",
       "      <td>-1.321251</td>\n",
       "      <td>-1.340777</td>\n",
       "      <td>-0.070082</td>\n",
       "      <td>-3.130717</td>\n",
       "      <td>3.829623</td>\n",
       "      <td>0.933152</td>\n",
       "      <td>1CKP,4EUT,4EUT</td>\n",
       "    </tr>\n",
       "    <tr>\n",
       "      <th>476480</th>\n",
       "      <td>76310925</td>\n",
       "      <td>0.459024</td>\n",
       "      <td>0.013794</td>\n",
       "      <td>-0.284438</td>\n",
       "      <td>0.591399</td>\n",
       "      <td>-0.824992</td>\n",
       "      <td>0.910093</td>\n",
       "      <td>-0.404519</td>\n",
       "      <td>-0.263853</td>\n",
       "      <td>-0.237646</td>\n",
       "      <td>...</td>\n",
       "      <td>-0.399889</td>\n",
       "      <td>0.261290</td>\n",
       "      <td>0.118542</td>\n",
       "      <td>1.157133</td>\n",
       "      <td>0.014574</td>\n",
       "      <td>-0.447181</td>\n",
       "      <td>0.129888</td>\n",
       "      <td>0.118966</td>\n",
       "      <td>0.176441</td>\n",
       "      <td>4EUT</td>\n",
       "    </tr>\n",
       "    <tr>\n",
       "      <th>476481</th>\n",
       "      <td>76321827</td>\n",
       "      <td>0.423295</td>\n",
       "      <td>1.466167</td>\n",
       "      <td>-0.525490</td>\n",
       "      <td>-0.840207</td>\n",
       "      <td>-1.431787</td>\n",
       "      <td>2.129326</td>\n",
       "      <td>-1.223760</td>\n",
       "      <td>2.291100</td>\n",
       "      <td>-1.785831</td>\n",
       "      <td>...</td>\n",
       "      <td>-1.279186</td>\n",
       "      <td>0.181222</td>\n",
       "      <td>0.508213</td>\n",
       "      <td>-0.541504</td>\n",
       "      <td>-1.260289</td>\n",
       "      <td>-0.797997</td>\n",
       "      <td>-2.023132</td>\n",
       "      <td>3.378190</td>\n",
       "      <td>1.288571</td>\n",
       "      <td>1CKP,4EUT,4EUT</td>\n",
       "    </tr>\n",
       "    <tr>\n",
       "      <th>476482</th>\n",
       "      <td>76325463</td>\n",
       "      <td>0.062179</td>\n",
       "      <td>-0.025483</td>\n",
       "      <td>-0.155615</td>\n",
       "      <td>0.543278</td>\n",
       "      <td>-1.155827</td>\n",
       "      <td>0.669949</td>\n",
       "      <td>-0.882610</td>\n",
       "      <td>-0.525503</td>\n",
       "      <td>-0.286333</td>\n",
       "      <td>...</td>\n",
       "      <td>-0.145780</td>\n",
       "      <td>0.796687</td>\n",
       "      <td>-0.149875</td>\n",
       "      <td>0.938495</td>\n",
       "      <td>-0.078610</td>\n",
       "      <td>-0.962729</td>\n",
       "      <td>-0.449951</td>\n",
       "      <td>0.446196</td>\n",
       "      <td>0.015125</td>\n",
       "      <td>4EUT</td>\n",
       "    </tr>\n",
       "    <tr>\n",
       "      <th>476483</th>\n",
       "      <td>76332688</td>\n",
       "      <td>0.133725</td>\n",
       "      <td>0.605590</td>\n",
       "      <td>-0.331592</td>\n",
       "      <td>0.269477</td>\n",
       "      <td>-0.565154</td>\n",
       "      <td>0.958135</td>\n",
       "      <td>-0.286324</td>\n",
       "      <td>-0.089177</td>\n",
       "      <td>-0.396854</td>\n",
       "      <td>...</td>\n",
       "      <td>-0.118817</td>\n",
       "      <td>0.291707</td>\n",
       "      <td>0.153064</td>\n",
       "      <td>0.376030</td>\n",
       "      <td>0.271457</td>\n",
       "      <td>-0.892901</td>\n",
       "      <td>-0.533228</td>\n",
       "      <td>0.717648</td>\n",
       "      <td>-0.425414</td>\n",
       "      <td>4EUT,4EUT</td>\n",
       "    </tr>\n",
       "  </tbody>\n",
       "</table>\n",
       "<p>476484 rows × 34 columns</p>\n",
       "</div>"
      ],
      "text/plain": [
       "             cid      emb0      emb1      emb2      emb3      emb4      emb5  \\\n",
       "0        3081361  3.717626  0.639790  1.385805 -3.248077  1.800350 -8.567437   \n",
       "1        5327236 -0.372198  0.345462 -0.447692  0.762168 -1.128296  1.083966   \n",
       "2        5327235 -0.376090  0.413805 -0.163864  0.052044 -0.731339  0.850873   \n",
       "3        5327234 -0.301883  0.371007 -0.358294  0.850007 -1.020490  0.863070   \n",
       "4        3009319 -0.295947  0.277502 -0.462155  0.739710 -0.747083  1.014934   \n",
       "...          ...       ...       ...       ...       ...       ...       ...   \n",
       "476479  76329005  1.166424  1.527692 -0.350568 -0.489907 -2.186424  2.682783   \n",
       "476480  76310925  0.459024  0.013794 -0.284438  0.591399 -0.824992  0.910093   \n",
       "476481  76321827  0.423295  1.466167 -0.525490 -0.840207 -1.431787  2.129326   \n",
       "476482  76325463  0.062179 -0.025483 -0.155615  0.543278 -1.155827  0.669949   \n",
       "476483  76332688  0.133725  0.605590 -0.331592  0.269477 -0.565154  0.958135   \n",
       "\n",
       "             emb6      emb7      emb8  ...     emb23      emb24     emb25  \\\n",
       "0       11.963310 -7.790736 -4.454160  ... -4.025013  10.429837 -7.283005   \n",
       "1       -0.227938 -0.992710  1.245753  ...  0.574602   1.091617  1.533445   \n",
       "2       -0.480098 -0.923235  1.109870  ...  0.447901   0.508694  1.325473   \n",
       "3        0.038748 -1.042293  0.331696  ...  0.405777   0.951995  1.287835   \n",
       "4       -0.141394 -1.019647  1.031712  ...  0.431880   0.979879  1.497206   \n",
       "...           ...       ...       ...  ...       ...        ...       ...   \n",
       "476479  -1.475247  1.757537 -1.920095  ... -1.236230   1.318571  0.563403   \n",
       "476480  -0.404519 -0.263853 -0.237646  ... -0.399889   0.261290  0.118542   \n",
       "476481  -1.223760  2.291100 -1.785831  ... -1.279186   0.181222  0.508213   \n",
       "476482  -0.882610 -0.525503 -0.286333  ... -0.145780   0.796687 -0.149875   \n",
       "476483  -0.286324 -0.089177 -0.396854  ... -0.118817   0.291707  0.153064   \n",
       "\n",
       "           emb26     emb27     emb28     emb29     emb30     emb31  \\\n",
       "0      -1.466492  0.953156 -4.969905 -7.563207 -6.804394 -1.095591   \n",
       "1       0.424946  0.171480 -0.086621 -0.119564 -0.742002 -0.368440   \n",
       "2       0.441002  0.283106  0.102159 -0.084240 -0.801526 -0.105570   \n",
       "3       0.329399  0.195070 -0.966746  0.120898 -0.616233 -0.832002   \n",
       "4       0.579064  0.091082 -0.131126 -0.098484 -0.374896 -0.564743   \n",
       "...          ...       ...       ...       ...       ...       ...   \n",
       "476479 -1.321251 -1.340777 -0.070082 -3.130717  3.829623  0.933152   \n",
       "476480  1.157133  0.014574 -0.447181  0.129888  0.118966  0.176441   \n",
       "476481 -0.541504 -1.260289 -0.797997 -2.023132  3.378190  1.288571   \n",
       "476482  0.938495 -0.078610 -0.962729 -0.449951  0.446196  0.015125   \n",
       "476483  0.376030  0.271457 -0.892901 -0.533228  0.717648 -0.425414   \n",
       "\n",
       "                                                   target  \n",
       "0       1D4H,1FLT,1Y6A,1EVT,1IVO,1Y6A,1FLT,1JU5,2XB7,2...  \n",
       "1                                               1D4H,1D4K  \n",
       "2                                               1D4H,1D4K  \n",
       "3                                                    1D4H  \n",
       "4                                               1D4H,1D4K  \n",
       "...                                                   ...  \n",
       "476479                                     1CKP,4EUT,4EUT  \n",
       "476480                                               4EUT  \n",
       "476481                                     1CKP,4EUT,4EUT  \n",
       "476482                                               4EUT  \n",
       "476483                                          4EUT,4EUT  \n",
       "\n",
       "[476484 rows x 34 columns]"
      ]
     },
     "execution_count": 4,
     "metadata": {},
     "output_type": "execute_result"
    }
   ],
   "source": [
    "df"
   ]
  },
  {
   "cell_type": "code",
   "execution_count": 5,
   "metadata": {},
   "outputs": [],
   "source": [
    "cids = df[\"cid\"].unique()\n",
    "unique_pbdid = set(\",\".join(df[\"target\"].values.flatten().tolist()).split(\",\"))\n",
    "pbdid_dict = {v:k for k, v in dict(enumerate(unique_pbdid)).items()}"
   ]
  },
  {
   "cell_type": "code",
   "execution_count": 6,
   "metadata": {},
   "outputs": [
    {
     "name": "stderr",
     "output_type": "stream",
     "text": [
      "  0%|                             | 3/476484 [00:00<5:24:21, 24.48it/s]"
     ]
    },
    {
     "name": "stdout",
     "output_type": "stream",
     "text": [
      "Preparing Data\n"
     ]
    },
    {
     "name": "stderr",
     "output_type": "stream",
     "text": [
      "                                                                       \r"
     ]
    }
   ],
   "source": [
    "X = []\n",
    "y = []\n",
    "print(\"Preparing Data\")\n",
    "for cid in tqdm(cids, total=len(cids), leave=False):\n",
    "    indices = np.where(df[\"cid\"] == cid)[0]\n",
    "    xi = df.iloc[indices, 1:-1].values\n",
    "    X.append(xi)\n",
    "    yi = np.zeros(len(pbdid_dict))\n",
    "    targets = \",\".join(df.iloc[indices, -1].values.tolist()).split(\",\")\n",
    "    targets = [pbdid_dict[_id] for _id in targets if _id != \"\"]\n",
    "    yi[targets] = 1\n",
    "    y.append(yi)\n",
    "\n",
    "X = np.array(X).reshape(-1, 32)\n",
    "scaler = StandardScaler()\n",
    "scaler.fit(X)\n",
    "y = np.array(y)\n",
    "\n",
    "np.save('X_4.npy',X)\n",
    "np.save('y_4.npy',y)"
   ]
  },
  {
   "cell_type": "code",
   "execution_count": 30,
   "metadata": {},
   "outputs": [],
   "source": [
    "#x is saved"
   ]
  },
  {
   "cell_type": "code",
   "execution_count": null,
   "metadata": {},
   "outputs": [],
   "source": []
  },
  {
   "cell_type": "code",
   "execution_count": null,
   "metadata": {},
   "outputs": [],
   "source": []
  },
  {
   "cell_type": "code",
   "execution_count": null,
   "metadata": {},
   "outputs": [],
   "source": []
  },
  {
   "cell_type": "code",
   "execution_count": null,
   "metadata": {},
   "outputs": [],
   "source": []
  },
  {
   "cell_type": "code",
   "execution_count": null,
   "metadata": {},
   "outputs": [],
   "source": []
  },
  {
   "cell_type": "code",
   "execution_count": null,
   "metadata": {},
   "outputs": [],
   "source": []
  },
  {
   "cell_type": "code",
   "execution_count": 2,
   "metadata": {},
   "outputs": [],
   "source": [
    "X = np.load(r'C:\\Users\\reekithak\\train0\\X0.npy') ; y = np.load(r\"C:\\Users\\reekithak\\train0\\y0.npy\")"
   ]
  },
  {
   "cell_type": "code",
   "execution_count": 7,
   "metadata": {},
   "outputs": [
    {
     "data": {
      "text/plain": [
       "((476484, 32), (476484, 2162))"
      ]
     },
     "execution_count": 7,
     "metadata": {},
     "output_type": "execute_result"
    }
   ],
   "source": [
    "X.shape, y.shape"
   ]
  },
  {
   "cell_type": "code",
   "execution_count": 8,
   "metadata": {},
   "outputs": [],
   "source": [
    "x_t, x_v, y_t, y_v = train_test_split(X, y, test_size=0.01, random_state=42)"
   ]
  },
  {
   "cell_type": "code",
   "execution_count": null,
   "metadata": {},
   "outputs": [],
   "source": []
  },
  {
   "cell_type": "code",
   "execution_count": null,
   "metadata": {},
   "outputs": [],
   "source": []
  },
  {
   "cell_type": "code",
   "execution_count": null,
   "metadata": {},
   "outputs": [],
   "source": []
  },
  {
   "cell_type": "code",
   "execution_count": null,
   "metadata": {},
   "outputs": [],
   "source": []
  },
  {
   "cell_type": "code",
   "execution_count": 7,
   "metadata": {},
   "outputs": [],
   "source": [
    "import winsound \n",
    "  \n",
    "freq = 100\n",
    "dur = 50\n",
    "  \n",
    "# loop iterates 5 times i.e, 5 beeps will be produced. \n",
    "for i in range(0, 5):     \n",
    "    winsound.Beep(freq, dur)     \n",
    "    freq+= 100\n",
    "    dur+= 50"
   ]
  },
  {
   "cell_type": "code",
   "execution_count": null,
   "metadata": {},
   "outputs": [],
   "source": []
  },
  {
   "cell_type": "code",
   "execution_count": 8,
   "metadata": {},
   "outputs": [
    {
     "data": {
      "text/plain": [
       "((509983, 32), (509983, 2237))"
      ]
     },
     "execution_count": 8,
     "metadata": {},
     "output_type": "execute_result"
    }
   ],
   "source": [
    "X.shape , y.shape"
   ]
  },
  {
   "cell_type": "code",
   "execution_count": 18,
   "metadata": {},
   "outputs": [
    {
     "data": {
      "text/plain": [
       "((494683, 32), (494683, 2237))"
      ]
     },
     "execution_count": 18,
     "metadata": {},
     "output_type": "execute_result"
    }
   ],
   "source": [
    "x_t.shape , y_t.shape"
   ]
  },
  {
   "cell_type": "code",
   "execution_count": 20,
   "metadata": {},
   "outputs": [
    {
     "data": {
      "text/plain": [
       "(2237,)"
      ]
     },
     "execution_count": 20,
     "metadata": {},
     "output_type": "execute_result"
    }
   ],
   "source": [
    "y_t[0].shape"
   ]
  },
  {
   "cell_type": "code",
   "execution_count": 9,
   "metadata": {},
   "outputs": [],
   "source": [
    "def batches(l, n):\n",
    "    \n",
    "    for i in range(0, len(l), n):\n",
    "        if i + n >= len(l):\n",
    "            yield l[i:len(l)]\n",
    "        else:\n",
    "            yield l[i:i+n]"
   ]
  },
  {
   "cell_type": "code",
   "execution_count": 10,
   "metadata": {},
   "outputs": [],
   "source": [
    "from sklearn.linear_model import SGDClassifier\n",
    "import random\n",
    "import pickle\n",
    "import time\n",
    "import tqdm\n",
    "from sklearn.naive_bayes import MultinomialNB\n",
    "clf2 = MultinomialNB()"
   ]
  },
  {
   "cell_type": "code",
   "execution_count": 13,
   "metadata": {},
   "outputs": [],
   "source": [
    "shuffledRange = list(range(len(x_t)))"
   ]
  },
  {
   "cell_type": "code",
   "execution_count": 14,
   "metadata": {},
   "outputs": [
    {
     "data": {
      "text/plain": [
       "494683"
      ]
     },
     "execution_count": 14,
     "metadata": {},
     "output_type": "execute_result"
    }
   ],
   "source": [
    "len(shuffledRange)"
   ]
  },
  {
   "cell_type": "code",
   "execution_count": 32,
   "metadata": {},
   "outputs": [],
   "source": [
    "n_iter = 1"
   ]
  },
  {
   "cell_type": "code",
   "execution_count": 31,
   "metadata": {},
   "outputs": [
    {
     "name": "stdout",
     "output_type": "stream",
     "text": [
      "ITER  0\n",
      "Init_Batches =  494683\n"
     ]
    },
    {
     "ename": "ValueError",
     "evalue": "y should be a 1d array, got an array of shape (1024, 2237) instead.",
     "output_type": "error",
     "traceback": [
      "\u001b[1;31m---------------------------------------------------------------------------\u001b[0m",
      "\u001b[1;31mValueError\u001b[0m                                Traceback (most recent call last)",
      "\u001b[1;32m<ipython-input-31-14455192f2c8>\u001b[0m in \u001b[0;36m<module>\u001b[1;34m\u001b[0m\n\u001b[0;32m     10\u001b[0m         \u001b[0mx_batch\u001b[0m \u001b[1;33m=\u001b[0m \u001b[0mx_t\u001b[0m\u001b[1;33m[\u001b[0m\u001b[0mbatch\u001b[0m\u001b[1;33m,\u001b[0m \u001b[1;33m:\u001b[0m\u001b[1;33m]\u001b[0m\u001b[1;33m\u001b[0m\u001b[1;33m\u001b[0m\u001b[0m\n\u001b[0;32m     11\u001b[0m         \u001b[0my_batch\u001b[0m \u001b[1;33m=\u001b[0m \u001b[0my_t\u001b[0m\u001b[1;33m[\u001b[0m\u001b[0mbatch\u001b[0m\u001b[1;33m,\u001b[0m \u001b[1;33m:\u001b[0m\u001b[1;33m]\u001b[0m\u001b[1;33m\u001b[0m\u001b[1;33m\u001b[0m\u001b[0m\n\u001b[1;32m---> 12\u001b[1;33m         \u001b[0mclf2\u001b[0m\u001b[1;33m.\u001b[0m\u001b[0mpartial_fit\u001b[0m\u001b[1;33m(\u001b[0m\u001b[0mx_batch\u001b[0m\u001b[1;33m,\u001b[0m \u001b[0my_batch\u001b[0m\u001b[1;33m)\u001b[0m\u001b[1;33m\u001b[0m\u001b[1;33m\u001b[0m\u001b[0m\n\u001b[0m\u001b[0;32m     13\u001b[0m         \u001b[0mprint\u001b[0m\u001b[1;33m(\u001b[0m\u001b[1;34m'Batch '\u001b[0m\u001b[1;33m,\u001b[0m\u001b[0mcount\u001b[0m\u001b[1;33m)\u001b[0m\u001b[1;33m\u001b[0m\u001b[1;33m\u001b[0m\u001b[0m\n\u001b[0;32m     14\u001b[0m         \u001b[0mcount\u001b[0m\u001b[1;33m+=\u001b[0m\u001b[1;36m1\u001b[0m\u001b[1;33m\u001b[0m\u001b[1;33m\u001b[0m\u001b[0m\n",
      "\u001b[1;32mc:\\users\\reekithak\\appdata\\local\\programs\\python\\python37\\lib\\site-packages\\sklearn\\naive_bayes.py\u001b[0m in \u001b[0;36mpartial_fit\u001b[1;34m(self, X, y, classes, sample_weight)\u001b[0m\n\u001b[0;32m    550\u001b[0m         \u001b[0mself\u001b[0m \u001b[1;33m:\u001b[0m \u001b[0mobject\u001b[0m\u001b[1;33m\u001b[0m\u001b[1;33m\u001b[0m\u001b[0m\n\u001b[0;32m    551\u001b[0m         \"\"\"\n\u001b[1;32m--> 552\u001b[1;33m         \u001b[0mX\u001b[0m\u001b[1;33m,\u001b[0m \u001b[0my\u001b[0m \u001b[1;33m=\u001b[0m \u001b[0mself\u001b[0m\u001b[1;33m.\u001b[0m\u001b[0m_check_X_y\u001b[0m\u001b[1;33m(\u001b[0m\u001b[0mX\u001b[0m\u001b[1;33m,\u001b[0m \u001b[0my\u001b[0m\u001b[1;33m)\u001b[0m\u001b[1;33m\u001b[0m\u001b[1;33m\u001b[0m\u001b[0m\n\u001b[0m\u001b[0;32m    553\u001b[0m         \u001b[0m_\u001b[0m\u001b[1;33m,\u001b[0m \u001b[0mn_features\u001b[0m \u001b[1;33m=\u001b[0m \u001b[0mX\u001b[0m\u001b[1;33m.\u001b[0m\u001b[0mshape\u001b[0m\u001b[1;33m\u001b[0m\u001b[1;33m\u001b[0m\u001b[0m\n\u001b[0;32m    554\u001b[0m \u001b[1;33m\u001b[0m\u001b[0m\n",
      "\u001b[1;32mc:\\users\\reekithak\\appdata\\local\\programs\\python\\python37\\lib\\site-packages\\sklearn\\naive_bayes.py\u001b[0m in \u001b[0;36m_check_X_y\u001b[1;34m(self, X, y)\u001b[0m\n\u001b[0;32m    478\u001b[0m \u001b[1;33m\u001b[0m\u001b[0m\n\u001b[0;32m    479\u001b[0m     \u001b[1;32mdef\u001b[0m \u001b[0m_check_X_y\u001b[0m\u001b[1;33m(\u001b[0m\u001b[0mself\u001b[0m\u001b[1;33m,\u001b[0m \u001b[0mX\u001b[0m\u001b[1;33m,\u001b[0m \u001b[0my\u001b[0m\u001b[1;33m)\u001b[0m\u001b[1;33m:\u001b[0m\u001b[1;33m\u001b[0m\u001b[1;33m\u001b[0m\u001b[0m\n\u001b[1;32m--> 480\u001b[1;33m         \u001b[1;32mreturn\u001b[0m \u001b[0mself\u001b[0m\u001b[1;33m.\u001b[0m\u001b[0m_validate_data\u001b[0m\u001b[1;33m(\u001b[0m\u001b[0mX\u001b[0m\u001b[1;33m,\u001b[0m \u001b[0my\u001b[0m\u001b[1;33m,\u001b[0m \u001b[0maccept_sparse\u001b[0m\u001b[1;33m=\u001b[0m\u001b[1;34m'csr'\u001b[0m\u001b[1;33m)\u001b[0m\u001b[1;33m\u001b[0m\u001b[1;33m\u001b[0m\u001b[0m\n\u001b[0m\u001b[0;32m    481\u001b[0m \u001b[1;33m\u001b[0m\u001b[0m\n\u001b[0;32m    482\u001b[0m     \u001b[1;32mdef\u001b[0m \u001b[0m_update_class_log_prior\u001b[0m\u001b[1;33m(\u001b[0m\u001b[0mself\u001b[0m\u001b[1;33m,\u001b[0m \u001b[0mclass_prior\u001b[0m\u001b[1;33m=\u001b[0m\u001b[1;32mNone\u001b[0m\u001b[1;33m)\u001b[0m\u001b[1;33m:\u001b[0m\u001b[1;33m\u001b[0m\u001b[1;33m\u001b[0m\u001b[0m\n",
      "\u001b[1;32mc:\\users\\reekithak\\appdata\\local\\programs\\python\\python37\\lib\\site-packages\\sklearn\\base.py\u001b[0m in \u001b[0;36m_validate_data\u001b[1;34m(self, X, y, reset, validate_separately, **check_params)\u001b[0m\n\u001b[0;32m    430\u001b[0m                 \u001b[0my\u001b[0m \u001b[1;33m=\u001b[0m \u001b[0mcheck_array\u001b[0m\u001b[1;33m(\u001b[0m\u001b[0my\u001b[0m\u001b[1;33m,\u001b[0m \u001b[1;33m**\u001b[0m\u001b[0mcheck_y_params\u001b[0m\u001b[1;33m)\u001b[0m\u001b[1;33m\u001b[0m\u001b[1;33m\u001b[0m\u001b[0m\n\u001b[0;32m    431\u001b[0m             \u001b[1;32melse\u001b[0m\u001b[1;33m:\u001b[0m\u001b[1;33m\u001b[0m\u001b[1;33m\u001b[0m\u001b[0m\n\u001b[1;32m--> 432\u001b[1;33m                 \u001b[0mX\u001b[0m\u001b[1;33m,\u001b[0m \u001b[0my\u001b[0m \u001b[1;33m=\u001b[0m \u001b[0mcheck_X_y\u001b[0m\u001b[1;33m(\u001b[0m\u001b[0mX\u001b[0m\u001b[1;33m,\u001b[0m \u001b[0my\u001b[0m\u001b[1;33m,\u001b[0m \u001b[1;33m**\u001b[0m\u001b[0mcheck_params\u001b[0m\u001b[1;33m)\u001b[0m\u001b[1;33m\u001b[0m\u001b[1;33m\u001b[0m\u001b[0m\n\u001b[0m\u001b[0;32m    433\u001b[0m             \u001b[0mout\u001b[0m \u001b[1;33m=\u001b[0m \u001b[0mX\u001b[0m\u001b[1;33m,\u001b[0m \u001b[0my\u001b[0m\u001b[1;33m\u001b[0m\u001b[1;33m\u001b[0m\u001b[0m\n\u001b[0;32m    434\u001b[0m \u001b[1;33m\u001b[0m\u001b[0m\n",
      "\u001b[1;32mc:\\users\\reekithak\\appdata\\local\\programs\\python\\python37\\lib\\site-packages\\sklearn\\utils\\validation.py\u001b[0m in \u001b[0;36minner_f\u001b[1;34m(*args, **kwargs)\u001b[0m\n\u001b[0;32m     70\u001b[0m                           FutureWarning)\n\u001b[0;32m     71\u001b[0m         \u001b[0mkwargs\u001b[0m\u001b[1;33m.\u001b[0m\u001b[0mupdate\u001b[0m\u001b[1;33m(\u001b[0m\u001b[1;33m{\u001b[0m\u001b[0mk\u001b[0m\u001b[1;33m:\u001b[0m \u001b[0marg\u001b[0m \u001b[1;32mfor\u001b[0m \u001b[0mk\u001b[0m\u001b[1;33m,\u001b[0m \u001b[0marg\u001b[0m \u001b[1;32min\u001b[0m \u001b[0mzip\u001b[0m\u001b[1;33m(\u001b[0m\u001b[0msig\u001b[0m\u001b[1;33m.\u001b[0m\u001b[0mparameters\u001b[0m\u001b[1;33m,\u001b[0m \u001b[0margs\u001b[0m\u001b[1;33m)\u001b[0m\u001b[1;33m}\u001b[0m\u001b[1;33m)\u001b[0m\u001b[1;33m\u001b[0m\u001b[1;33m\u001b[0m\u001b[0m\n\u001b[1;32m---> 72\u001b[1;33m         \u001b[1;32mreturn\u001b[0m \u001b[0mf\u001b[0m\u001b[1;33m(\u001b[0m\u001b[1;33m**\u001b[0m\u001b[0mkwargs\u001b[0m\u001b[1;33m)\u001b[0m\u001b[1;33m\u001b[0m\u001b[1;33m\u001b[0m\u001b[0m\n\u001b[0m\u001b[0;32m     73\u001b[0m     \u001b[1;32mreturn\u001b[0m \u001b[0minner_f\u001b[0m\u001b[1;33m\u001b[0m\u001b[1;33m\u001b[0m\u001b[0m\n\u001b[0;32m     74\u001b[0m \u001b[1;33m\u001b[0m\u001b[0m\n",
      "\u001b[1;32mc:\\users\\reekithak\\appdata\\local\\programs\\python\\python37\\lib\\site-packages\\sklearn\\utils\\validation.py\u001b[0m in \u001b[0;36mcheck_X_y\u001b[1;34m(X, y, accept_sparse, accept_large_sparse, dtype, order, copy, force_all_finite, ensure_2d, allow_nd, multi_output, ensure_min_samples, ensure_min_features, y_numeric, estimator)\u001b[0m\n\u001b[0;32m    805\u001b[0m                         ensure_2d=False, dtype=None)\n\u001b[0;32m    806\u001b[0m     \u001b[1;32melse\u001b[0m\u001b[1;33m:\u001b[0m\u001b[1;33m\u001b[0m\u001b[1;33m\u001b[0m\u001b[0m\n\u001b[1;32m--> 807\u001b[1;33m         \u001b[0my\u001b[0m \u001b[1;33m=\u001b[0m \u001b[0mcolumn_or_1d\u001b[0m\u001b[1;33m(\u001b[0m\u001b[0my\u001b[0m\u001b[1;33m,\u001b[0m \u001b[0mwarn\u001b[0m\u001b[1;33m=\u001b[0m\u001b[1;32mTrue\u001b[0m\u001b[1;33m)\u001b[0m\u001b[1;33m\u001b[0m\u001b[1;33m\u001b[0m\u001b[0m\n\u001b[0m\u001b[0;32m    808\u001b[0m         \u001b[0m_assert_all_finite\u001b[0m\u001b[1;33m(\u001b[0m\u001b[0my\u001b[0m\u001b[1;33m)\u001b[0m\u001b[1;33m\u001b[0m\u001b[1;33m\u001b[0m\u001b[0m\n\u001b[0;32m    809\u001b[0m     \u001b[1;32mif\u001b[0m \u001b[0my_numeric\u001b[0m \u001b[1;32mand\u001b[0m \u001b[0my\u001b[0m\u001b[1;33m.\u001b[0m\u001b[0mdtype\u001b[0m\u001b[1;33m.\u001b[0m\u001b[0mkind\u001b[0m \u001b[1;33m==\u001b[0m \u001b[1;34m'O'\u001b[0m\u001b[1;33m:\u001b[0m\u001b[1;33m\u001b[0m\u001b[1;33m\u001b[0m\u001b[0m\n",
      "\u001b[1;32mc:\\users\\reekithak\\appdata\\local\\programs\\python\\python37\\lib\\site-packages\\sklearn\\utils\\validation.py\u001b[0m in \u001b[0;36minner_f\u001b[1;34m(*args, **kwargs)\u001b[0m\n\u001b[0;32m     70\u001b[0m                           FutureWarning)\n\u001b[0;32m     71\u001b[0m         \u001b[0mkwargs\u001b[0m\u001b[1;33m.\u001b[0m\u001b[0mupdate\u001b[0m\u001b[1;33m(\u001b[0m\u001b[1;33m{\u001b[0m\u001b[0mk\u001b[0m\u001b[1;33m:\u001b[0m \u001b[0marg\u001b[0m \u001b[1;32mfor\u001b[0m \u001b[0mk\u001b[0m\u001b[1;33m,\u001b[0m \u001b[0marg\u001b[0m \u001b[1;32min\u001b[0m \u001b[0mzip\u001b[0m\u001b[1;33m(\u001b[0m\u001b[0msig\u001b[0m\u001b[1;33m.\u001b[0m\u001b[0mparameters\u001b[0m\u001b[1;33m,\u001b[0m \u001b[0margs\u001b[0m\u001b[1;33m)\u001b[0m\u001b[1;33m}\u001b[0m\u001b[1;33m)\u001b[0m\u001b[1;33m\u001b[0m\u001b[1;33m\u001b[0m\u001b[0m\n\u001b[1;32m---> 72\u001b[1;33m         \u001b[1;32mreturn\u001b[0m \u001b[0mf\u001b[0m\u001b[1;33m(\u001b[0m\u001b[1;33m**\u001b[0m\u001b[0mkwargs\u001b[0m\u001b[1;33m)\u001b[0m\u001b[1;33m\u001b[0m\u001b[1;33m\u001b[0m\u001b[0m\n\u001b[0m\u001b[0;32m     73\u001b[0m     \u001b[1;32mreturn\u001b[0m \u001b[0minner_f\u001b[0m\u001b[1;33m\u001b[0m\u001b[1;33m\u001b[0m\u001b[0m\n\u001b[0;32m     74\u001b[0m \u001b[1;33m\u001b[0m\u001b[0m\n",
      "\u001b[1;32mc:\\users\\reekithak\\appdata\\local\\programs\\python\\python37\\lib\\site-packages\\sklearn\\utils\\validation.py\u001b[0m in \u001b[0;36mcolumn_or_1d\u001b[1;34m(y, warn)\u001b[0m\n\u001b[0;32m    845\u001b[0m     raise ValueError(\n\u001b[0;32m    846\u001b[0m         \u001b[1;34m\"y should be a 1d array, \"\u001b[0m\u001b[1;33m\u001b[0m\u001b[1;33m\u001b[0m\u001b[0m\n\u001b[1;32m--> 847\u001b[1;33m         \"got an array of shape {} instead.\".format(shape))\n\u001b[0m\u001b[0;32m    848\u001b[0m \u001b[1;33m\u001b[0m\u001b[0m\n\u001b[0;32m    849\u001b[0m \u001b[1;33m\u001b[0m\u001b[0m\n",
      "\u001b[1;31mValueError\u001b[0m: y should be a 1d array, got an array of shape (1024, 2237) instead."
     ]
    }
   ],
   "source": [
    "t1 = time.time()\n",
    "for n in range(n_iter):\n",
    "    random.shuffle(shuffledRange)\n",
    "#     x_t = x_t[shuffledRange, :]\n",
    "#     y_t = y_t[shuffledRange, :]\n",
    "    print(\"ITER \",n)\n",
    "    count = 0\n",
    "    print(\"Init_Batches = \",len(shuffledX))\n",
    "    for batch in batches(shuffledRange, 1024):\n",
    "        x_batch = x_t[batch, :]\n",
    "        y_batch = y_t[batch, :]\n",
    "        clf2.partial_fit(x_batch, y_batch)\n",
    "        print('Batch ',count)\n",
    "        count+=1\n",
    "pickle.dump(clf2,open(\"final_model.sav\",'wb'))\n",
    "print(time.time()-t1)"
   ]
  },
  {
   "cell_type": "code",
   "execution_count": 31,
   "metadata": {},
   "outputs": [],
   "source": [
    "#Simple Evaluation\n"
   ]
  },
  {
   "cell_type": "code",
   "execution_count": 11,
   "metadata": {},
   "outputs": [],
   "source": [
    "import tensorflow as tf"
   ]
  },
  {
   "cell_type": "code",
   "execution_count": null,
   "metadata": {},
   "outputs": [],
   "source": []
  },
  {
   "cell_type": "code",
   "execution_count": 12,
   "metadata": {},
   "outputs": [],
   "source": [
    "def batch_gen(X, y, bs):\n",
    "    indices = list(range(X.shape[0]))\n",
    "    random.shuffle(indices)\n",
    "    while True:\n",
    "        for i in range(0, len(indices) - (len(indices) % bs), bs):\n",
    "            if i + bs > len(indices):\n",
    "                batch_x = X[i:, :]\n",
    "                batch_y = y[i:, :]\n",
    "            else:\n",
    "                batch_x = X[i:i+bs, :]\n",
    "                batch_y = y[i:i+bs, :]\n",
    "            yield (batch_x, batch_y)"
   ]
  },
  {
   "cell_type": "code",
   "execution_count": 13,
   "metadata": {},
   "outputs": [],
   "source": [
    "# for x_, y_ in batch_gen(X, y, bs=1024):\n",
    "#     yhat = model.predict(x_)\n",
    "#     print(yhat.shape, y_.shape)\n",
    "#     break"
   ]
  },
  {
   "cell_type": "code",
   "execution_count": 14,
   "metadata": {},
   "outputs": [],
   "source": [
    "model = tf.keras.Sequential([\n",
    "    tf.keras.layers.Dense(128, input_shape=(32,), activation='relu'),\n",
    "    tf.keras.layers.Dropout(0.2),\n",
    "    tf.keras.layers.Dense(512, activation=\"relu\"),\n",
    "    tf.keras.layers.Dense(1024, activation=\"relu\"),\n",
    "    tf.keras.layers.Dropout(0.3),\n",
    "    tf.keras.layers.Dense(2048, activation=\"relu\"),\n",
    "    tf.keras.layers.Dropout(0.4),\n",
    "    tf.keras.layers.Dense(y.shape[1], activation=\"sigmoid\")\n",
    "])"
   ]
  },
  {
   "cell_type": "code",
   "execution_count": 15,
   "metadata": {},
   "outputs": [],
   "source": [
    "# logits_loss = tf.keras.losses.SparseCategoricalCrossentropy()\n",
    "# model.compile(optimizer=\"adam\", loss=logits_loss, metrics=[\"accuracy\"])\n",
    "model.compile(optimizer=\"adam\", loss=\"binary_crossentropy\", metrics=[\"accuracy\"])"
   ]
  },
  {
   "cell_type": "code",
   "execution_count": 16,
   "metadata": {},
   "outputs": [],
   "source": [
    "bs = 1024\n",
    "EPOCHS = 50\n",
    "steps_per_epoch = x_t.shape[0] // bs\n",
    "val_steps = x_v.shape[0] // bs\n",
    "train_gen = batch_gen(x_t, y_t, bs=bs)\n",
    "val_gen = batch_gen(x_v, y_v, bs=bs)"
   ]
  },
  {
   "cell_type": "code",
   "execution_count": 17,
   "metadata": {},
   "outputs": [
    {
     "name": "stdout",
     "output_type": "stream",
     "text": [
      "WARNING:tensorflow:From <ipython-input-17-a04d32fbf090>:1: Model.fit_generator (from tensorflow.python.keras.engine.training) is deprecated and will be removed in a future version.\n",
      "Instructions for updating:\n",
      "Please use Model.fit, which supports generators.\n",
      "Epoch 1/50\n",
      "460/460 [==============================] - 1036s 2s/step - loss: 0.0122 - accuracy: 0.1456\n",
      "Epoch 2/50\n",
      "460/460 [==============================] - 133s 288ms/step - loss: 0.0015 - accuracy: 0.6093\n",
      "Epoch 3/50\n",
      "460/460 [==============================] - 116s 253ms/step - loss: 9.3419e-04 - accuracy: 0.7127\n",
      "Epoch 4/50\n",
      "460/460 [==============================] - 116s 253ms/step - loss: 7.7160e-04 - accuracy: 0.7334\n",
      "Epoch 5/50\n",
      "460/460 [==============================] - 117s 254ms/step - loss: 6.8493e-04 - accuracy: 0.7430\n",
      "Epoch 6/50\n",
      "460/460 [==============================] - 116s 253ms/step - loss: 6.3030e-04 - accuracy: 0.7490\n",
      "Epoch 7/50\n",
      "460/460 [==============================] - 116s 253ms/step - loss: 5.9044e-04 - accuracy: 0.7526\n",
      "Epoch 8/50\n",
      "460/460 [==============================] - 116s 252ms/step - loss: 5.6048e-04 - accuracy: 0.7565\n",
      "Epoch 9/50\n",
      "460/460 [==============================] - 117s 254ms/step - loss: 5.3338e-04 - accuracy: 0.7591\n",
      "Epoch 10/50\n",
      "460/460 [==============================] - 116s 252ms/step - loss: 5.1284e-04 - accuracy: 0.7616\n",
      "Epoch 11/50\n",
      "460/460 [==============================] - 117s 254ms/step - loss: 4.9470e-04 - accuracy: 0.7633\n",
      "Epoch 12/50\n",
      "460/460 [==============================] - 116s 253ms/step - loss: 4.7906e-04 - accuracy: 0.7651\n",
      "Epoch 13/50\n",
      "460/460 [==============================] - 117s 253ms/step - loss: 4.7107e-04 - accuracy: 0.7664\n",
      "Epoch 14/50\n",
      "460/460 [==============================] - 116s 253ms/step - loss: 4.5633e-04 - accuracy: 0.7677\n",
      "Epoch 15/50\n",
      "460/460 [==============================] - 116s 253ms/step - loss: 4.4124e-04 - accuracy: 0.7696\n",
      "Epoch 16/50\n",
      "460/460 [==============================] - 116s 253ms/step - loss: 4.2964e-04 - accuracy: 0.7695\n",
      "Epoch 17/50\n",
      "460/460 [==============================] - 117s 254ms/step - loss: 4.2351e-04 - accuracy: 0.7723\n",
      "Epoch 18/50\n",
      "460/460 [==============================] - 116s 252ms/step - loss: 4.1118e-04 - accuracy: 0.7729\n",
      "Epoch 19/50\n",
      "460/460 [==============================] - 116s 253ms/step - loss: 4.0869e-04 - accuracy: 0.7739\n",
      "Epoch 20/50\n",
      "460/460 [==============================] - 116s 252ms/step - loss: 3.9917e-04 - accuracy: 0.7739\n",
      "Epoch 21/50\n",
      "460/460 [==============================] - 116s 251ms/step - loss: 3.8991e-04 - accuracy: 0.7742\n",
      "Epoch 22/50\n",
      "460/460 [==============================] - 116s 252ms/step - loss: 3.8414e-04 - accuracy: 0.7773\n",
      "Epoch 23/50\n",
      "460/460 [==============================] - 116s 253ms/step - loss: 3.8078e-04 - accuracy: 0.7754\n",
      "Epoch 24/50\n",
      "460/460 [==============================] - 118s 256ms/step - loss: 3.7243e-04 - accuracy: 0.7754\n",
      "Epoch 25/50\n",
      "460/460 [==============================] - 118s 255ms/step - loss: 3.7078e-04 - accuracy: 0.7774\n",
      "Epoch 26/50\n",
      "460/460 [==============================] - 118s 257ms/step - loss: 3.6880e-04 - accuracy: 0.7768\n",
      "Epoch 27/50\n",
      "460/460 [==============================] - 118s 257ms/step - loss: 3.6333e-04 - accuracy: 0.7775\n",
      "Epoch 28/50\n",
      "460/460 [==============================] - 117s 254ms/step - loss: 3.5704e-04 - accuracy: 0.7784\n",
      "Epoch 29/50\n",
      "460/460 [==============================] - 115s 251ms/step - loss: 3.5164e-04 - accuracy: 0.7788\n",
      "Epoch 30/50\n",
      "460/460 [==============================] - 115s 251ms/step - loss: 3.4883e-04 - accuracy: 0.7791\n",
      "Epoch 31/50\n",
      "460/460 [==============================] - 116s 252ms/step - loss: 3.4633e-04 - accuracy: 0.7797\n",
      "Epoch 32/50\n",
      "460/460 [==============================] - 118s 257ms/step - loss: 3.4667e-04 - accuracy: 0.7789\n",
      "Epoch 33/50\n",
      "460/460 [==============================] - 117s 254ms/step - loss: 3.4181e-04 - accuracy: 0.7791\n",
      "Epoch 34/50\n",
      "460/460 [==============================] - 117s 253ms/step - loss: 3.3868e-04 - accuracy: 0.7784\n",
      "Epoch 35/50\n",
      "460/460 [==============================] - 116s 253ms/step - loss: 3.3560e-04 - accuracy: 0.7797\n",
      "Epoch 36/50\n",
      "460/460 [==============================] - 117s 254ms/step - loss: 3.3125e-04 - accuracy: 0.7799\n",
      "Epoch 37/50\n",
      "460/460 [==============================] - 116s 252ms/step - loss: 3.2741e-04 - accuracy: 0.7794\n",
      "Epoch 38/50\n",
      "460/460 [==============================] - 116s 252ms/step - loss: 3.2546e-04 - accuracy: 0.7805\n",
      "Epoch 39/50\n",
      "460/460 [==============================] - 116s 252ms/step - loss: 3.2869e-04 - accuracy: 0.7797\n",
      "Epoch 40/50\n",
      "460/460 [==============================] - 117s 254ms/step - loss: 3.3015e-04 - accuracy: 0.7805\n",
      "Epoch 41/50\n",
      "460/460 [==============================] - 116s 252ms/step - loss: 3.2108e-04 - accuracy: 0.7817\n",
      "Epoch 42/50\n",
      "460/460 [==============================] - 116s 252ms/step - loss: 3.1890e-04 - accuracy: 0.7801\n",
      "Epoch 43/50\n",
      "460/460 [==============================] - 116s 253ms/step - loss: 3.2028e-04 - accuracy: 0.7802\n",
      "Epoch 44/50\n",
      "460/460 [==============================] - 116s 253ms/step - loss: 3.1574e-04 - accuracy: 0.7825\n",
      "Epoch 45/50\n",
      "460/460 [==============================] - 116s 252ms/step - loss: 3.1176e-04 - accuracy: 0.7826\n",
      "Epoch 46/50\n",
      "460/460 [==============================] - 116s 252ms/step - loss: 3.1184e-04 - accuracy: 0.7824\n",
      "Epoch 47/50\n",
      "460/460 [==============================] - 117s 255ms/step - loss: 3.1290e-04 - accuracy: 0.7827\n",
      "Epoch 48/50\n",
      "460/460 [==============================] - 117s 254ms/step - loss: 3.0907e-04 - accuracy: 0.7829\n",
      "Epoch 49/50\n",
      "460/460 [==============================] - 116s 252ms/step - loss: 3.0953e-04 - accuracy: 0.7821\n",
      "Epoch 50/50\n",
      "460/460 [==============================] - 116s 252ms/step - loss: 3.0684e-04 - accuracy: 0.7828\n"
     ]
    },
    {
     "data": {
      "text/plain": [
       "<tensorflow.python.keras.callbacks.History at 0x208aa454a48>"
      ]
     },
     "execution_count": 17,
     "metadata": {},
     "output_type": "execute_result"
    }
   ],
   "source": [
    "model.fit_generator(train_gen, steps_per_epoch = steps_per_epoch, epochs=EPOCHS, verbose=1)"
   ]
  },
  {
   "cell_type": "code",
   "execution_count": 18,
   "metadata": {},
   "outputs": [],
   "source": [
    "model.save(\"graph0-ep54.h5\")"
   ]
  },
  {
   "cell_type": "code",
   "execution_count": 19,
   "metadata": {},
   "outputs": [],
   "source": [
    "#the above should be ep52 !~ rename don't forget ! "
   ]
  },
  {
   "cell_type": "code",
   "execution_count": 20,
   "metadata": {},
   "outputs": [],
   "source": [
    "model.save('graph4.h5')"
   ]
  },
  {
   "cell_type": "code",
   "execution_count": null,
   "metadata": {},
   "outputs": [],
   "source": []
  }
 ],
 "metadata": {
  "kernelspec": {
   "display_name": "Python 3",
   "language": "python",
   "name": "python3"
  },
  "language_info": {
   "codemirror_mode": {
    "name": "ipython",
    "version": 3
   },
   "file_extension": ".py",
   "mimetype": "text/x-python",
   "name": "python",
   "nbconvert_exporter": "python",
   "pygments_lexer": "ipython3",
   "version": "3.7.8"
  }
 },
 "nbformat": 4,
 "nbformat_minor": 4
}
